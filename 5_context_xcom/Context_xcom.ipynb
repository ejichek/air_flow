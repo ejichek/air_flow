{
 "cells": [
  {
   "cell_type": "code",
   "execution_count": null,
   "id": "78ca2ab9",
   "metadata": {},
   "outputs": [],
   "source": []
  },
  {
   "cell_type": "markdown",
   "id": "4cba0400",
   "metadata": {},
   "source": [
    "# Контекст"
   ]
  },
  {
   "cell_type": "markdown",
   "id": "b9b4a507",
   "metadata": {},
   "source": [
    "# PythonOperator"
   ]
  },
  {
   "cell_type": "code",
   "execution_count": null,
   "id": "653378c1",
   "metadata": {},
   "outputs": [],
   "source": [
    "from airflow import DAG\n",
    "from airflow.operators.python_operator import PythonOperator\n",
    "from datetime import datetime\n",
    "\n",
    "########################################################################################\n",
    "\n",
    "from airflow.operators.python import get_current_context\n",
    "\n",
    "########################################################################################\n",
    "with DAG('dag', schedule_interval='@daily', \n",
    "         \n",
    "          start_date=datetime(2021, 1, 1),\n",
    "          end_date=datetime(2021, 1, 10)) as dag:\n",
    "\n",
    "  def my_func(hello):\n",
    "\n",
    "    ########################################################################################    \n",
    "    \n",
    "    context = get_current_context()\n",
    "    \n",
    "    ########################################################################################\n",
    "    ds = context['ds']\n",
    "    task = context['task']\n",
    "    print(hello)\n",
    "    print(ds)\n",
    "    print(task)\n",
    "    print(\"Контекст\", context) \n",
    "    \n",
    "\n",
    "  python_task = PythonOperator(\n",
    "    task_id='python_task', \n",
    "    python_callable=my_func,\n",
    "    op_kwargs= {\n",
    "      'hello': 'Hello World'\n",
    "      }\n",
    "    )"
   ]
  },
  {
   "cell_type": "code",
   "execution_count": null,
   "id": "1ed2b5ae",
   "metadata": {},
   "outputs": [],
   "source": [
    "from airflow import DAG \n",
    "from datetime import datetime \n",
    "from airflow.operators.python_operator import PythonOperator \n",
    "\n",
    "default_args = {\"owner\": \"airflow\", \"start_date\": datetime(2018, 10, 1)} \n",
    "dag = DAG(dag_id=\"dag\", default_args=default_args, schedule_interva=\"@daily\") \n",
    "\n",
    "# Функция использующая контекст \n",
    "def _print_exec_date(**context): \n",
    "    print(\"Контекст\", context) \n",
    "    \n",
    "print_exec_date = PythonOperator( \n",
    "    task_id=\"print_exec_date\", \n",
    "    python_callable=_print_exec_date, \n",
    "    dag=dag )"
   ]
  },
  {
   "cell_type": "markdown",
   "id": "aa4963af",
   "metadata": {},
   "source": [
    "# BashOperator"
   ]
  },
  {
   "cell_type": "code",
   "execution_count": null,
   "id": "8a34c687",
   "metadata": {},
   "outputs": [],
   "source": [
    "from airflow import DAG \n",
    "from datetime import datetime \n",
    "from airflow.operators.bash_operator import BashOperator \n",
    "\n",
    "default_args = {\"owner\": \"airflow\", \"start_date\": datetime(2018, 10, 1)} \n",
    "dag = DAG(dag_id=\"dag\", default_args=default_args, schedule_interval=\"@daily\") \n",
    "\n",
    "bash_task = BashOperator( \n",
    "    task_id=\"bash_task\", \n",
    "    bash_command='echo \"Context: \\'$message\\'\"', \n",
    "    env={'message': '{{ execution_date }}'}, # Используется jinja выражение\n",
    "    dag=dag )"
   ]
  },
  {
   "cell_type": "code",
   "execution_count": null,
   "id": "0e86608c",
   "metadata": {},
   "outputs": [],
   "source": [
    "Jinja\n",
    "Если вы не знакомы с Jinja, то это просто текстовый шаблонизатор, он позволяет писать код через текстовые выражения и запускать как обычный python скрипт.\n",
    "\n",
    "Например \n",
    "\n",
    "t = Template(\"Hello {{ something }}!\") # Создадим шаблон\n",
    "t.render(something=\"World\") # Отрендерим результат\n",
    ">> u'Hello World!' # Результат работы\n",
    "\n",
    "Или вот так\n",
    "\n",
    "from jinja2 import Template\n",
    "\n",
    "# Выведем список чисел через в цикле который реализуем через Jinja\n",
    "t = Template(\"My favorite numbers: {% for n in range(1,10) %}{{n}} \" \"{% endfor %}\")\n",
    "t.render()\n",
    ">> My favorite numbers: 1 2 3 4 5 6 7 8 9 \n",
    "\n",
    "Jinja создана в первую очередь для веб разработки где удобно генерировать HTML теги. Но в Airflow его используют для упрощения кода и доступа к различным элементам. Например для доступа к элементам контекста или Xcom (про это позже). Пример выражений которые можно использовать в операторах."
   ]
  },
  {
   "cell_type": "code",
   "execution_count": null,
   "id": "9c48f1e8",
   "metadata": {},
   "outputs": [],
   "source": []
  },
  {
   "cell_type": "markdown",
   "id": "9747de18",
   "metadata": {},
   "source": [
    "Xcom хранилища\n",
    "\n",
    "SQLite - 2 gb\n",
    "PostreSQL - 1gb\n",
    "MySQL - 64 kb "
   ]
  },
  {
   "cell_type": "code",
   "execution_count": null,
   "id": "749de7b0",
   "metadata": {},
   "outputs": [],
   "source": [
    "from airflow import DAG\n",
    "from datetime import timedelta\n",
    "from airflow.utils.dates import days_ago\n",
    "from airflow.operators.bash import BashOperator\n",
    "\n",
    "dag = DAG('dag',schedule_interval=timedelta(days=1), start_date=days_ago(1))\n",
    "\n",
    "downloading_data = BashOperator(\n",
    "    task_id='downloading_data',\n",
    "    bash_command='echo \"Hello, I am a value!\"',\n",
    "    do_xcom_push=True, # Результат работы будет отправлен в Xcom\n",
    "    dag=dag\n",
    ")\n",
    "\n",
    "fetching_data = BashOperator(\n",
    "    task_id='fetching_data',\n",
    "    # Через Jinja также можно отправлять xcom\n",
    "    bash_command=\"echo 'XCom fetched: {{ ti.xcom_pull(task_ids=[\\'downloading_data\\']) }}'\",\n",
    "    do_xcom_push=False, # Результат работы НЕ будет отправлен в Xcom\n",
    "    dag=dag\n",
    ")\n",
    "\n",
    "downloading_data >> fetching_data\n",
    "\n",
    "\n",
    "\n"
   ]
  },
  {
   "cell_type": "markdown",
   "id": "05e73d3b",
   "metadata": {},
   "source": [
    "Результатом выполнения первого таска является запись в БД\n",
    "А результатом получения данных является запись в логе"
   ]
  },
  {
   "cell_type": "markdown",
   "id": "11a62c3f",
   "metadata": {},
   "source": [
    "Важно\n",
    "\n",
    "Я ещё раз уточню что Xcom в самом простом варианте использую только для передачи метаданных, и только если подключить S3 хранилище можно использовать его как способ обмена между тасками."
   ]
  },
  {
   "cell_type": "code",
   "execution_count": null,
   "id": "1d17fac1",
   "metadata": {},
   "outputs": [],
   "source": [
    "import airflow\n",
    "from airflow import DAG\n",
    "from datetime import datetime\n",
    "from airflow.utils.dates import days_ago\n",
    "from airflow.operators.python_operator import PythonOperator\n",
    "\n",
    "\n",
    "args = {'owner':'airflow', \"start_date\": days_ago(1)}\n",
    "dag = DAG(dag_id=\"dag\", default_args=args, schedule_interval=\"@once\")\n",
    "\n",
    "value_2 = {'a':'b'}\n",
    "\n",
    "def push_func(**kwargs):\n",
    "    kwargs['ti'].xcom_push(key='key', value=value_2)\n",
    "    kwargs['ti'].xcom_push(key='key2', value=str(kwargs['execution_date']))\n",
    "    \n",
    "def pull_func(**kwargs):\n",
    "    kwargs['ti'].xcom_pull(key='key', task_ids='push_func')\n",
    "    kwargs['ti'].xcom_pull(key='key2', task_ids='push_func')\n",
    "    \n",
    "\n",
    "push_1 = PythonOperator( \n",
    "    task_id=\"push_func\", \n",
    "    python_callable=push_func, \n",
    "    dag=dag )\n",
    "\n",
    "pull_1 = PythonOperator( \n",
    "    task_id=\"pull_func\", \n",
    "    python_callable=pull_func, \n",
    "    dag=dag )\n",
    "    \n",
    "push_1 >> pull_1"
   ]
  },
  {
   "cell_type": "code",
   "execution_count": null,
   "id": "1e28518a",
   "metadata": {},
   "outputs": [],
   "source": []
  },
  {
   "cell_type": "code",
   "execution_count": null,
   "id": "523e7b20",
   "metadata": {},
   "outputs": [],
   "source": []
  }
 ],
 "metadata": {
  "kernelspec": {
   "display_name": "Python 3 (ipykernel)",
   "language": "python",
   "name": "python3"
  },
  "language_info": {
   "codemirror_mode": {
    "name": "ipython",
    "version": 3
   },
   "file_extension": ".py",
   "mimetype": "text/x-python",
   "name": "python",
   "nbconvert_exporter": "python",
   "pygments_lexer": "ipython3",
   "version": "3.9.13"
  }
 },
 "nbformat": 4,
 "nbformat_minor": 5
}
