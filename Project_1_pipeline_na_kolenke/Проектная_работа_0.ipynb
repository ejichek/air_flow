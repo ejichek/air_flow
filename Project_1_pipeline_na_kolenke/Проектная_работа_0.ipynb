{
 "cells": [
  {
   "cell_type": "code",
   "execution_count": 1,
   "metadata": {
    "id": "hAoSxEtn0QIo"
   },
   "outputs": [],
   "source": [
    "# Импорт необходимых библиотек\n",
    "\n",
    "import pandas as pd\n",
    "import sqlite3\n",
    "import requests"
   ]
  },
  {
   "cell_type": "code",
   "execution_count": 2,
   "metadata": {
    "id": "g8AqrUWDa25D"
   },
   "outputs": [],
   "source": [
    "# Создайте базу данных sqlite, можно использовать sqlalchemy или pandas, или любой другой инструмент\n",
    "\n",
    "CONN = sqlite3.connect('kursach_0.db')"
   ]
  },
  {
   "cell_type": "code",
   "execution_count": 8,
   "metadata": {},
   "outputs": [
    {
     "data": {
      "text/html": [
       "<div>\n",
       "<style scoped>\n",
       "    .dataframe tbody tr th:only-of-type {\n",
       "        vertical-align: middle;\n",
       "    }\n",
       "\n",
       "    .dataframe tbody tr th {\n",
       "        vertical-align: top;\n",
       "    }\n",
       "\n",
       "    .dataframe thead th {\n",
       "        text-align: right;\n",
       "    }\n",
       "</style>\n",
       "<table border=\"1\" class=\"dataframe\">\n",
       "  <thead>\n",
       "    <tr style=\"text-align: right;\">\n",
       "      <th></th>\n",
       "      <th>name</th>\n",
       "    </tr>\n",
       "  </thead>\n",
       "  <tbody>\n",
       "  </tbody>\n",
       "</table>\n",
       "</div>"
      ],
      "text/plain": [
       "Empty DataFrame\n",
       "Columns: [name]\n",
       "Index: []"
      ]
     },
     "execution_count": 8,
     "metadata": {},
     "output_type": "execute_result"
    }
   ],
   "source": [
    "# Список всех таблиц БД\n",
    "\n",
    "all_table = pd.read_sql_query(\"SELECT name FROM sqlite_master WHERE type='table'\", CONN)\n",
    "all_table"
   ]
  },
  {
   "cell_type": "code",
   "execution_count": 7,
   "metadata": {},
   "outputs": [],
   "source": [
    "# Удаление таблиц, функция ниже\n",
    "\n",
    "sql_query(sql='DROP TABLE IF EXISTS JOIN_DATA', conn=CONN)"
   ]
  },
  {
   "cell_type": "code",
   "execution_count": 9,
   "metadata": {
    "id": "WN5AxNjudXrP"
   },
   "outputs": [],
   "source": [
    "# Напишите функцию которая принимает на вход дату\n",
    "# и выгружает курс валюты EUR к USD за этот день\n",
    "# Функция должна вернуть список словарей или можно использовать можно использоват pandas.read_csv()\n",
    "\n",
    "# Для этого воспользуйтесь https://exchangerate.host/#/\n",
    "# и методом Timeseries Endpoint! Строго им. Где start_date = end_date = date\n",
    "# Используйте параметры start_date, end_date, base=EUR, symbols=USD, format=csv\n",
    "\n",
    "def extract_currency(date):\n",
    "    url = 'https://api.exchangerate.host/timeseries?start_date=' + date + '&end_date=' + date + '&base=EUR&symbols=USD'\n",
    "    response = requests.get(url)\n",
    "    data = response.json()\n",
    "    \n",
    "    df_exchangerate = pd.DataFrame(columns = ['base', 'start_date', 'end_date','rates_usd'])\n",
    "    df_exchangerate = df_exchangerate.append({'base':data['base'], 'start_date':data['start_date'], 'end_date':data['end_date'],\n",
    "                                             'rates_usd':data['rates'][date]['USD']}, ignore_index = True)\n",
    "    \n",
    "    return df_exchangerate"
   ]
  },
  {
   "cell_type": "code",
   "execution_count": 10,
   "metadata": {
    "id": "ClRqffvefPA7"
   },
   "outputs": [],
   "source": [
    "# Напишите функцию которая скачивает данные с гитхаба\n",
    "# Функция принимает на вход дату\n",
    "# Функция должна вернуть список словарей или можно использовать можно использоват pandas.read_csv()\n",
    "\n",
    "# ссылка на гитхаб с файлами - https://github.com/dm-novikov/stepik_airflow_course/tree/main/data_new\n",
    "\n",
    "\n",
    "# date строго один из списка 2021-01-01, 2021-01-02, 2021-01-03, 2021-01-04 \n",
    "def extract_data(date):\n",
    "    \n",
    "    url = 'https://raw.githubusercontent.com/dm-novikov/stepik_airflow_course/main/data_new/' + date + '.csv'\n",
    "    \n",
    "    df_git = pd.DataFrame(columns = ['currency', 'value', 'date'])\n",
    "    df_git = pd.read_csv(url, on_bad_lines='skip')\n",
    "    return df_git\n",
    "    "
   ]
  },
  {
   "cell_type": "code",
   "execution_count": 11,
   "metadata": {
    "id": "3Nr4KoeUdcKb"
   },
   "outputs": [],
   "source": [
    "# Напишите функцию которая принимает на вход список словарей\n",
    "# и загружает в табличку в sqlite, можно использоват pandas.to_sql()\n",
    "\n",
    "def insert_to_db(data, table_name, conn):\n",
    "    #cur = conn.cursor()\n",
    "    data.to_sql(name=table_name, con=conn, index=False, if_exists='append')"
   ]
  },
  {
   "cell_type": "code",
   "execution_count": 12,
   "metadata": {
    "id": "bQwysQOTfL6x"
   },
   "outputs": [],
   "source": [
    "# Напишите функцию которая выполнит SQL запрос к базу данных\n",
    "# Здесь удобно использовать sqlalchemy или https://pythonru.com/biblioteki/vvedenie-v-sqlite-python\n",
    "# Если выполняется select ... то функция должна возвращать результат (не None)\n",
    "# Если используется внутренняя операция например truncate table, insert into select ... то возвращает None\n",
    "# data = sql_query(sql=\"select * from table\") -> [(1, 2, 3), (4, 5, 6) ...]\n",
    "# sql_query(\"truncate table\") -> None\n",
    "\n",
    "#query_sql_1 = 'select * from table_git'\n",
    "def sql_query(sql, conn): \n",
    "    query_split = sql.split(' ')\n",
    "    \n",
    "    if 'select' == query_split[0] or 'SELECT' == query_split[0] or 'Select' == query_split[0]:\n",
    "        data = pd.read_sql(sql, conn)\n",
    "        return data\n",
    "    \n",
    "    elif 'insert'== query_split[0] or 'INSERT' == query_split[0] or 'Insert'== query_split[0]:\n",
    "        \n",
    "        name_new_tb_JOIN_DATA = query_split[2]\n",
    "        \n",
    "        query_select_split = query_split\n",
    "        del query_select_split[0:3]\n",
    "        query_select_str = ' '.join(query_select_split)\n",
    "        \n",
    "        data = pd.read_sql(query_select_str, conn)\n",
    "        \n",
    "        data.to_sql(name=name_new_tb_JOIN_DATA, con=conn, index=False, if_exists='append')       \n",
    "        return None\n",
    "    \n",
    "    elif 'Drop'== query_split[0] or 'drop' == query_split[0] or 'DROP'== query_split[0]:\n",
    "        #print('drop')\n",
    "        cur = conn.cursor()\n",
    "        cur.execute(sql)\n",
    "        #conn.close()        # не стоит закрывать доступ к бд пока с ней работают\n",
    "        return(None)\n",
    "    \n",
    "    elif 'Truncate'== query_split[0] or 'truncate' == query_split[0] or 'TRUNCATE'== query_split[0]:\n",
    "        print('Ничего не произошло с БД, в sqlite нет Truncate - используйте конструкцию DROP TABLE IF EXISTS table_name')\n",
    "        return(None)\n",
    "    else:\n",
    "        print('Ничего не произошло с БД, смотри функцию sql_query - она поддерживает запросы: select, insert, drop')\n",
    "        return(None)\n"
   ]
  },
  {
   "cell_type": "code",
   "execution_count": 13,
   "metadata": {
    "id": "EQxB_D47gl7e",
    "scrolled": true
   },
   "outputs": [
    {
     "name": "stderr",
     "output_type": "stream",
     "text": [
      "C:\\Users\\Ejik\\AppData\\Local\\Temp\\ipykernel_3120\\584436523.py:15: FutureWarning: The frame.append method is deprecated and will be removed from pandas in a future version. Use pandas.concat instead.\n",
      "  df_exchangerate = df_exchangerate.append({'base':data['base'], 'start_date':data['start_date'], 'end_date':data['end_date'],\n"
     ]
    },
    {
     "name": "stdout",
     "output_type": "stream",
     "text": [
      "  base  start_date    end_date  rates_usd currency  value        date\n",
      "0  EUR  2021-01-01  2021-01-01   1.217582      EUR     23  2021-01-01\n",
      "1  EUR  2021-01-01  2021-01-01   1.217582      EUR     24  2021-01-01\n",
      "2  EUR  2021-01-01  2021-01-01   1.217582      EUR     38  2021-01-01\n",
      "3  EUR  2021-01-01  2021-01-01   1.217582      EUR     42  2021-01-01\n",
      "4  EUR  2021-01-01  2021-01-01   1.217582      EUR     48  2021-01-01\n",
      "5  EUR  2021-01-01  2021-01-01   1.217582      EUR     65  2021-01-01\n",
      "6  EUR  2021-01-01  2021-01-01   1.217582      EUR     74  2021-01-01\n",
      "7  EUR  2021-01-01  2021-01-01   1.217582      EUR     74  2021-01-01\n",
      "8  EUR  2021-01-01  2021-01-01   1.217582      EUR     86  2021-01-01\n"
     ]
    },
    {
     "name": "stderr",
     "output_type": "stream",
     "text": [
      "C:\\Users\\Ejik\\AppData\\Local\\Temp\\ipykernel_3120\\584436523.py:15: FutureWarning: The frame.append method is deprecated and will be removed from pandas in a future version. Use pandas.concat instead.\n",
      "  df_exchangerate = df_exchangerate.append({'base':data['base'], 'start_date':data['start_date'], 'end_date':data['end_date'],\n"
     ]
    },
    {
     "name": "stdout",
     "output_type": "stream",
     "text": [
      "  base  start_date    end_date  rates_usd currency  value        date\n",
      "0  EUR  2021-01-01  2021-01-01   1.217582      EUR     23  2021-01-01\n",
      "1  EUR  2021-01-01  2021-01-01   1.217582      EUR     24  2021-01-01\n",
      "2  EUR  2021-01-01  2021-01-01   1.217582      EUR     38  2021-01-01\n",
      "3  EUR  2021-01-01  2021-01-01   1.217582      EUR     42  2021-01-01\n",
      "4  EUR  2021-01-01  2021-01-01   1.217582      EUR     48  2021-01-01\n",
      "5  EUR  2021-01-01  2021-01-01   1.217582      EUR     65  2021-01-01\n",
      "6  EUR  2021-01-01  2021-01-01   1.217582      EUR     74  2021-01-01\n",
      "7  EUR  2021-01-01  2021-01-01   1.217582      EUR     74  2021-01-01\n",
      "8  EUR  2021-01-01  2021-01-01   1.217582      EUR     86  2021-01-01\n"
     ]
    },
    {
     "name": "stderr",
     "output_type": "stream",
     "text": [
      "C:\\Users\\Ejik\\AppData\\Local\\Temp\\ipykernel_3120\\584436523.py:15: FutureWarning: The frame.append method is deprecated and will be removed from pandas in a future version. Use pandas.concat instead.\n",
      "  df_exchangerate = df_exchangerate.append({'base':data['base'], 'start_date':data['start_date'], 'end_date':data['end_date'],\n"
     ]
    },
    {
     "name": "stdout",
     "output_type": "stream",
     "text": [
      "  base  start_date    end_date  rates_usd currency  value        date\n",
      "0  EUR  2021-01-01  2021-01-01   1.217582      EUR     23  2021-01-01\n",
      "1  EUR  2021-01-01  2021-01-01   1.217582      EUR     24  2021-01-01\n",
      "2  EUR  2021-01-01  2021-01-01   1.217582      EUR     38  2021-01-01\n",
      "3  EUR  2021-01-01  2021-01-01   1.217582      EUR     42  2021-01-01\n",
      "4  EUR  2021-01-01  2021-01-01   1.217582      EUR     48  2021-01-01\n",
      "5  EUR  2021-01-01  2021-01-01   1.217582      EUR     65  2021-01-01\n",
      "6  EUR  2021-01-01  2021-01-01   1.217582      EUR     74  2021-01-01\n",
      "7  EUR  2021-01-01  2021-01-01   1.217582      EUR     74  2021-01-01\n",
      "8  EUR  2021-01-01  2021-01-01   1.217582      EUR     86  2021-01-01\n"
     ]
    },
    {
     "name": "stderr",
     "output_type": "stream",
     "text": [
      "C:\\Users\\Ejik\\AppData\\Local\\Temp\\ipykernel_3120\\584436523.py:15: FutureWarning: The frame.append method is deprecated and will be removed from pandas in a future version. Use pandas.concat instead.\n",
      "  df_exchangerate = df_exchangerate.append({'base':data['base'], 'start_date':data['start_date'], 'end_date':data['end_date'],\n"
     ]
    },
    {
     "name": "stdout",
     "output_type": "stream",
     "text": [
      "  base  start_date    end_date  rates_usd currency  value        date\n",
      "0  EUR  2021-01-01  2021-01-01   1.217582      EUR     23  2021-01-01\n",
      "1  EUR  2021-01-01  2021-01-01   1.217582      EUR     24  2021-01-01\n",
      "2  EUR  2021-01-01  2021-01-01   1.217582      EUR     38  2021-01-01\n",
      "3  EUR  2021-01-01  2021-01-01   1.217582      EUR     42  2021-01-01\n",
      "4  EUR  2021-01-01  2021-01-01   1.217582      EUR     48  2021-01-01\n",
      "5  EUR  2021-01-01  2021-01-01   1.217582      EUR     65  2021-01-01\n",
      "6  EUR  2021-01-01  2021-01-01   1.217582      EUR     74  2021-01-01\n",
      "7  EUR  2021-01-01  2021-01-01   1.217582      EUR     74  2021-01-01\n",
      "8  EUR  2021-01-01  2021-01-01   1.217582      EUR     86  2021-01-01\n"
     ]
    }
   ],
   "source": [
    "# Запустите ваш код в функции main\n",
    "\n",
    "# Напишите генерацию дат, так чтобы у вас получился список\n",
    "# 2021-01-02, 2021-01-03 ... etc\n",
    "# Нужны даты с 2021-01-01 по 2021-01-04\n",
    "\n",
    "dates_list = list(['2021-01-01','2021-01-02','2021-01-03','2021-01-04'])\n",
    "\n",
    "def main(date, conn):\n",
    "  \n",
    "  # Выгружаем данные по валютам и из источника\n",
    "  currency = extract_currency(date)\n",
    "  data = extract_data(date)\n",
    "  # Создайте необходимые таблицы если это нужно\n",
    "  # 'currency', 'data' и 'join_data (таблица с объединенными данными)\n",
    "  #sql_query(sql='select * from table_git', conn) \n",
    "\n",
    "\n",
    "  # Вставляем данные в БД\n",
    "  # У вас долнжо получиться 2 таблицы CURRENCY, DATA\n",
    "  insert_to_db(data=currency, table_name='currency', conn=conn)\n",
    "  \n",
    "  insert_to_db(data=data, table_name='data', conn=conn)\n",
    " \n",
    "\n",
    "  all_table = pd.read_sql_query(\"SELECT name FROM sqlite_master WHERE type='table'\", CONN)\n",
    "  \n",
    "\n",
    "  # Объединение данных в отдельную таблицу JOIN_DATA\n",
    "  # CURRENCY, DATA объединить через JOIN по дате и валюте\n",
    "  # Используйте insert into select ... inner join ...\n",
    "  # И соответственно создать таблицу для этого\n",
    "  sql_query(sql='INSERT INTO JOIN_DATA SELECT * FROM currency INNER JOIN data ON date=start_date', conn=CONN)\n",
    "  \n",
    "  all_table = pd.read_sql_query(\"SELECT name FROM sqlite_master WHERE type='table'\", CONN)\n",
    "  \n",
    "  # Очистка временных таблиц CURRENCY, DATA\n",
    "  # Это те таблицы куда произошла вставка данных\n",
    "  # Используйте truncate\n",
    "  sql_query(sql='DROP TABLE IF EXISTS currency', conn=CONN)\n",
    "  sql_query(sql='DROP TABLE IF EXISTS data', conn=CONN)\n",
    "  # Получение данных из таблицы JOIN_DATA за конкретный день\n",
    "  # Используйте date при формировании запроса select * from ... where date ='...'\n",
    "  report = sql_query(sql=\"select * from JOIN_DATA where date = '2021-01-01'\", conn=CONN)\n",
    "  print(report)\n",
    "\n",
    "# Пройдемся по списку дат и выполним скрипт\n",
    "for date in dates_list:\n",
    "  main(date, conn=CONN)"
   ]
  },
  {
   "cell_type": "code",
   "execution_count": null,
   "metadata": {},
   "outputs": [],
   "source": []
  },
  {
   "cell_type": "code",
   "execution_count": null,
   "metadata": {
    "id": "oKOYD6FjsRGt"
   },
   "outputs": [],
   "source": [
    "# чтобы првоерить решение можете обратиться к вашей базе данных таким образом\n",
    "%load_ext sql\n",
    "%config SqlMagic.feedback=False \n",
    "%config SqlMagic.autopandas=True\n",
    "%sql sqlite:////<ПУТЬ ДО БАЗЫ>\n",
    "%sql select * from <ТАБЛИЦА>"
   ]
  }
 ],
 "metadata": {
  "colab": {
   "provenance": []
  },
  "kernelspec": {
   "display_name": "Python 3 (ipykernel)",
   "language": "python",
   "name": "python3"
  },
  "language_info": {
   "codemirror_mode": {
    "name": "ipython",
    "version": 3
   },
   "file_extension": ".py",
   "mimetype": "text/x-python",
   "name": "python",
   "nbconvert_exporter": "python",
   "pygments_lexer": "ipython3",
   "version": "3.9.13"
  }
 },
 "nbformat": 4,
 "nbformat_minor": 1
}
